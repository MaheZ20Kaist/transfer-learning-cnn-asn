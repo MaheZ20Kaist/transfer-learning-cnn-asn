{
 "cells": [
  {
   "cell_type": "code",
   "execution_count": 49,
   "metadata": {},
   "outputs": [],
   "source": [
    "import matplotlib.pyplot as plt\n",
    "import tensorflow as tf"
   ]
  },
  {
   "cell_type": "code",
   "execution_count": 51,
   "metadata": {
    "id": "b2il1Qt7ljum"
   },
   "outputs": [],
   "source": [
    "import numpy as np\n",
    "# import keras\n",
    "import matplotlib.pyplot as plt\n",
    "from sklearn.model_selection import train_test_split\n",
    "from sklearn.metrics import confusion_matrix\n",
    "from tensorflow.keras.models import Sequential\n",
    "from tensorflow.keras.layers import Dense, Dropout, Flatten, Conv2D, MaxPool2D,GlobalMaxPooling2D, ConvLSTM2D, Reshape, TimeDistributed, Activation, LSTM\n",
    "from tensorflow.keras.optimizers import RMSprop\n",
    "from sklearn.preprocessing import LabelBinarizer, OneHotEncoder\n",
    "from scipy.io import loadmat\n",
    "from tensorflow.keras.callbacks import ReduceLROnPlateau\n",
    "\n",
    "\n",
    "from sklearn.metrics import classification_report,confusion_matrix\n",
    "import matplotlib.pyplot as plt"
   ]
  },
  {
   "cell_type": "code",
   "execution_count": 52,
   "metadata": {
    "id": "2uyUhKUXljxR"
   },
   "outputs": [],
   "source": [
    "def plotsave(history):\n",
    "    # summarize history for loss\n",
    "    plt.plot(history.history['loss'])\n",
    "    plt.plot(history.history['val_loss'])\n",
    "    plt.title('model loss')\n",
    "    plt.ylabel('loss')\n",
    "    plt.xlabel('epoch')\n",
    "    plt.legend(['train', 'validaton'], loc='upper left')"
   ]
  },
  {
   "cell_type": "code",
   "execution_count": 53,
   "metadata": {
    "colab": {
     "base_uri": "https://localhost:8080/"
    },
    "id": "MGKfoS58lj0U",
    "outputId": "284a595d-dc8e-40b4-d334-e59818bfe26b"
   },
   "outputs": [
    {
     "name": "stdout",
     "output_type": "stream",
     "text": [
      "dict_keys(['__header__', '__version__', '__globals__', 'DL', 'DS'])\n"
     ]
    }
   ],
   "source": [
    "dir_ds = \"./MFPT_DS_ENV1.mat\"\n",
    "data = loadmat(dir_ds) # loading the data into dictionary format\n",
    "locals().update(data)\n",
    "print(data.keys())\n"
   ]
  },
  {
   "cell_type": "code",
   "execution_count": 54,
   "metadata": {
    "colab": {
     "base_uri": "https://localhost:8080/"
    },
    "id": "xD3KD1xJnGJa",
    "outputId": "8e08c9e5-b5fe-4904-8ddf-dd64eacc9a05"
   },
   "outputs": [
    {
     "data": {
      "text/plain": [
       "(858, 32, 32, 1)"
      ]
     },
     "execution_count": 54,
     "metadata": {},
     "output_type": "execute_result"
    }
   ],
   "source": [
    "signalData = data['DS']\n",
    "U_L = data['DL']\n",
    "T_L = data['DL']\n",
    "# Normalize the data\n",
    "# signalData = signalData / 255.0\n",
    "signalData = np.reshape(signalData, (len(signalData), 32, len(np.transpose(signalData)),1))\n",
    "# p_signalData = np.zeros((signalData.shape[0],p,p,1)) \n",
    "signalData.shape"
   ]
  },
  {
   "cell_type": "code",
   "execution_count": 55,
   "metadata": {
    "id": "BOq9tTBdT69A"
   },
   "outputs": [],
   "source": [
    "label_encoder  = LabelBinarizer()\n",
    "U_L  = label_encoder.fit_transform(U_L)\n",
    "T_L  = label_encoder.fit_transform(T_L)"
   ]
  },
  {
   "cell_type": "code",
   "execution_count": 56,
   "metadata": {
    "colab": {
     "base_uri": "https://localhost:8080/"
    },
    "id": "qT_mS34enGPR",
    "outputId": "58e7f52d-c16e-4358-e2dd-46f3806217b4"
   },
   "outputs": [
    {
     "name": "stdout",
     "output_type": "stream",
     "text": [
      "(600, 32, 32, 1) (600, 1)\n"
     ]
    }
   ],
   "source": [
    "random_seed = 2\n",
    "'DATA SPLITING FOR validation'\n",
    "X_train, X_val, Y_train, Y_val = train_test_split(signalData, T_L, test_size = 0.3, stratify=T_L, random_state=random_seed)\n",
    "print(X_train.shape, Y_train.shape)"
   ]
  },
  {
   "cell_type": "code",
   "execution_count": 57,
   "metadata": {
    "colab": {
     "base_uri": "https://localhost:8080/"
    },
    "id": "YKAPdStxYYUD",
    "outputId": "ec9544ec-7f15-4700-ddaa-83731f603a6f"
   },
   "outputs": [
    {
     "data": {
      "text/plain": [
       "(858, 1)"
      ]
     },
     "execution_count": 57,
     "metadata": {},
     "output_type": "execute_result"
    }
   ],
   "source": [
    "T_L.shape"
   ]
  },
  {
   "cell_type": "code",
   "execution_count": 58,
   "metadata": {
    "colab": {
     "base_uri": "https://localhost:8080/"
    },
    "id": "zCw9pDdLtRdV",
    "outputId": "e01e9797-fc08-4548-c30b-f54a56df3d0f"
   },
   "outputs": [],
   "source": [
    "model = Sequential()\n",
    "\n",
    "model.add(Conv2D(filters = 32, kernel_size = (5,5),padding = 'Same', \n",
    "                 activation ='relu', input_shape = (32,32,1)))\n",
    "\n",
    "#tanh, elu\n",
    "model.add(Conv2D(filters = 32, kernel_size = (3,3),padding = 'Same', \n",
    "                 activation ='relu'))\n",
    "\n",
    "model.add(MaxPool2D(pool_size=(2,2)))\n",
    "model.add(Dropout(0.25))\n",
    "\n",
    "\n",
    "model.add(Conv2D(filters = 64, kernel_size = (3,3),padding = 'Same', \n",
    "                 activation ='relu'))\n",
    "model.add(MaxPool2D(pool_size=(2,2), strides=(2,2)))\n",
    "model.add(Dropout(0.25))\n",
    "\n",
    "\n",
    "model.add(Conv2D(filters = 64, kernel_size = (3,3),padding = 'Same', \n",
    "                 activation ='relu'))\n",
    "tf.keras.layers.GlobalMaxPooling2D(data_format='channels_last')\n",
    "model.add(Dropout(0.25))\n",
    "\n",
    "model.add(Flatten())\n",
    "model.add(Dense(128, activation = \"relu\"))\n",
    "model.add(Dropout(0.5))\n",
    "\n",
    "# dense layer\n",
    "model.add(Dense(64, activation='relu'))\n",
    "model.add(Dropout(0.3))\n",
    "\n",
    "# output layer\n",
    "model.add(Dense(1, activation='sigmoid'))\n",
    "# model.add(Dense(1, activation='sigmoid'))\n",
    "\n",
    "optimizer = RMSprop(learning_rate=0.0001, rho=0.9, epsilon=1e-08, decay=0.0) # <<\n",
    "# Compile the model"
   ]
  },
  {
   "cell_type": "code",
   "execution_count": 59,
   "metadata": {
    "colab": {
     "base_uri": "https://localhost:8080/"
    },
    "id": "l5h03suvs21O",
    "outputId": "406d1b48-5756-483f-92b9-5d0df6d1dbb1"
   },
   "outputs": [
    {
     "name": "stdout",
     "output_type": "stream",
     "text": [
      "Model: \"sequential_3\"\n",
      "_________________________________________________________________\n",
      "Layer (type)                 Output Shape              Param #   \n",
      "=================================================================\n",
      "conv2d_12 (Conv2D)           (None, 32, 32, 32)        832       \n",
      "_________________________________________________________________\n",
      "conv2d_13 (Conv2D)           (None, 32, 32, 32)        9248      \n",
      "_________________________________________________________________\n",
      "max_pooling2d_6 (MaxPooling2 (None, 16, 16, 32)        0         \n",
      "_________________________________________________________________\n",
      "dropout_11 (Dropout)         (None, 16, 16, 32)        0         \n",
      "_________________________________________________________________\n",
      "conv2d_14 (Conv2D)           (None, 16, 16, 64)        18496     \n",
      "_________________________________________________________________\n",
      "max_pooling2d_7 (MaxPooling2 (None, 8, 8, 64)          0         \n",
      "_________________________________________________________________\n",
      "dropout_12 (Dropout)         (None, 8, 8, 64)          0         \n",
      "_________________________________________________________________\n",
      "conv2d_15 (Conv2D)           (None, 8, 8, 64)          36928     \n",
      "_________________________________________________________________\n",
      "dropout_13 (Dropout)         (None, 8, 8, 64)          0         \n",
      "_________________________________________________________________\n",
      "flatten_2 (Flatten)          (None, 4096)              0         \n",
      "_________________________________________________________________\n",
      "dense_5 (Dense)              (None, 128)               524416    \n",
      "_________________________________________________________________\n",
      "dropout_14 (Dropout)         (None, 128)               0         \n",
      "_________________________________________________________________\n",
      "dense_6 (Dense)              (None, 64)                8256      \n",
      "_________________________________________________________________\n",
      "dropout_15 (Dropout)         (None, 64)                0         \n",
      "_________________________________________________________________\n",
      "dense_7 (Dense)              (None, 1)                 65        \n",
      "=================================================================\n",
      "Total params: 598,241\n",
      "Trainable params: 598,241\n",
      "Non-trainable params: 0\n",
      "_________________________________________________________________\n"
     ]
    }
   ],
   "source": [
    "model.summary()"
   ]
  },
  {
   "cell_type": "code",
   "execution_count": 60,
   "metadata": {
    "id": "rA0TLayTDzNK"
   },
   "outputs": [],
   "source": [
    "import tensorflow as tf\n",
    "\n",
    "model.compile(optimizer = optimizer , loss = tf.keras.losses.BinaryCrossentropy(), metrics=[\"accuracy\"])"
   ]
  },
  {
   "cell_type": "code",
   "execution_count": 61,
   "metadata": {
    "id": "ijJrqt9LnGZH"
   },
   "outputs": [],
   "source": [
    "epochs = 20 #<<100\n",
    "batch_size = 32 # <<"
   ]
  },
  {
   "cell_type": "code",
   "execution_count": 62,
   "metadata": {
    "colab": {
     "base_uri": "https://localhost:8080/"
    },
    "id": "bmjk0C9qnZZZ",
    "outputId": "b3e533ee-67b0-4fb1-8710-9cc56d189e2b"
   },
   "outputs": [
    {
     "name": "stdout",
     "output_type": "stream",
     "text": [
      "Epoch 1/20\n",
      "19/19 [==============================] - 1s 36ms/step - loss: 0.6324 - accuracy: 0.5100 - val_loss: 0.5722 - val_accuracy: 0.5000\n",
      "Epoch 2/20\n",
      "19/19 [==============================] - 1s 30ms/step - loss: 0.5794 - accuracy: 0.5133 - val_loss: 0.4968 - val_accuracy: 0.5000\n",
      "Epoch 3/20\n",
      "19/19 [==============================] - 1s 31ms/step - loss: 0.4869 - accuracy: 0.5800 - val_loss: 0.3711 - val_accuracy: 1.0000\n",
      "Epoch 4/20\n",
      "19/19 [==============================] - 1s 30ms/step - loss: 0.3309 - accuracy: 0.8950 - val_loss: 0.1813 - val_accuracy: 1.0000\n",
      "Epoch 5/20\n",
      "19/19 [==============================] - 1s 31ms/step - loss: 0.1246 - accuracy: 0.9967 - val_loss: 0.0361 - val_accuracy: 1.0000\n",
      "Epoch 6/20\n",
      "19/19 [==============================] - 1s 30ms/step - loss: 0.0240 - accuracy: 1.0000 - val_loss: 0.0059 - val_accuracy: 1.0000\n",
      "Epoch 7/20\n",
      "19/19 [==============================] - 1s 31ms/step - loss: 0.0075 - accuracy: 1.0000 - val_loss: 0.0011 - val_accuracy: 1.0000\n",
      "Epoch 8/20\n",
      "19/19 [==============================] - 1s 31ms/step - loss: 0.0037 - accuracy: 1.0000 - val_loss: 4.4037e-04 - val_accuracy: 1.0000\n",
      "Epoch 9/20\n",
      "19/19 [==============================] - 1s 31ms/step - loss: 0.0014 - accuracy: 1.0000 - val_loss: 8.9058e-05 - val_accuracy: 1.0000\n",
      "Epoch 10/20\n",
      "19/19 [==============================] - 1s 31ms/step - loss: 6.3248e-04 - accuracy: 1.0000 - val_loss: 3.8038e-05 - val_accuracy: 1.0000\n",
      "Epoch 11/20\n",
      "19/19 [==============================] - 1s 32ms/step - loss: 7.5883e-04 - accuracy: 1.0000 - val_loss: 8.7568e-06 - val_accuracy: 1.0000\n",
      "Epoch 12/20\n",
      "19/19 [==============================] - 1s 34ms/step - loss: 1.9896e-04 - accuracy: 1.0000 - val_loss: 1.3147e-05 - val_accuracy: 1.0000\n",
      "Epoch 13/20\n",
      "19/19 [==============================] - 1s 33ms/step - loss: 2.0133e-04 - accuracy: 1.0000 - val_loss: 3.4186e-07 - val_accuracy: 1.0000\n",
      "Epoch 14/20\n",
      "19/19 [==============================] - 1s 30ms/step - loss: 9.2113e-04 - accuracy: 1.0000 - val_loss: 3.8531e-06 - val_accuracy: 1.0000\n",
      "Epoch 15/20\n",
      "19/19 [==============================] - 1s 30ms/step - loss: 5.2708e-05 - accuracy: 1.0000 - val_loss: 2.3067e-07 - val_accuracy: 1.0000\n",
      "Epoch 16/20\n",
      "19/19 [==============================] - 1s 31ms/step - loss: 7.6346e-05 - accuracy: 1.0000 - val_loss: 2.5652e-07 - val_accuracy: 1.0000\n",
      "Epoch 17/20\n",
      "19/19 [==============================] - 1s 33ms/step - loss: 3.6633e-05 - accuracy: 1.0000 - val_loss: 6.4863e-09 - val_accuracy: 1.0000\n",
      "Epoch 18/20\n",
      "19/19 [==============================] - 1s 32ms/step - loss: 1.8579e-06 - accuracy: 1.0000 - val_loss: 5.4804e-09 - val_accuracy: 1.0000\n",
      "Epoch 19/20\n",
      "19/19 [==============================] - 1s 31ms/step - loss: 2.2477e-06 - accuracy: 1.0000 - val_loss: 3.8503e-09 - val_accuracy: 1.0000\n",
      "Epoch 20/20\n",
      "19/19 [==============================] - 1s 31ms/step - loss: 7.4398e-07 - accuracy: 1.0000 - val_loss: 2.1748e-09 - val_accuracy: 1.0000\n"
     ]
    }
   ],
   "source": [
    "# history = model.fit(train, T_L, batch_size = batch_size, epochs = epochs, \n",
    "#           validation_data = (test, test_label), verbose = 1)\n",
    "history = model.fit(X_train, Y_train, batch_size = batch_size, epochs = epochs, validation_data = (X_val, Y_val), verbose = 1)"
   ]
  },
  {
   "cell_type": "code",
   "execution_count": 63,
   "metadata": {
    "colab": {
     "base_uri": "https://localhost:8080/",
     "height": 315
    },
    "id": "0UZvCtHQnZhR",
    "outputId": "dc406cbc-afd2-49d0-da28-8c2bf8b6e893"
   },
   "outputs": [
    {
     "data": {
      "image/png": "[encoded data removed]",
      "text/plain": [
       "<Figure size 432x288 with 1 Axes>"
      ]
     },
     "metadata": {
      "needs_background": "light"
     },
     "output_type": "display_data"
    }
   ],
   "source": [
    "plotsave(history)"
   ]
  },
  {
   "cell_type": "code",
   "execution_count": 64,
   "metadata": {
    "id": "u8cOn9K6-prw"
   },
   "outputs": [
    {
     "name": "stdout",
     "output_type": "stream",
     "text": [
      "INFO:tensorflow:Assets written to: ../env02/env1sv/assets\n"
     ]
    }
   ],
   "source": [
    "model.save(\"../env02/env1sv/\")"
   ]
  },
  {
   "cell_type": "code",
   "execution_count": null,
   "metadata": {},
   "outputs": [],
   "source": []
  },
  {
   "cell_type": "code",
   "execution_count": null,
   "metadata": {},
   "outputs": [],
   "source": []
  }
 ],
 "metadata": {
  "accelerator": "GPU",
  "colab": {
   "collapsed_sections": [],
   "name": "cnn-save.ipynb",
   "provenance": []
  },
  "kernelspec": {
   "display_name": "Python 3",
   "language": "python",
   "name": "python3"
  },
  "language_info": {
   "codemirror_mode": {
    "name": "ipython",
    "version": 3
   },
   "file_extension": ".py",
   "mimetype": "text/x-python",
   "name": "python",
   "nbconvert_exporter": "python",
   "pygments_lexer": "ipython3",
   "version": "3.8.10"
  }
 },
 "nbformat": 4,
 "nbformat_minor": 4
}
