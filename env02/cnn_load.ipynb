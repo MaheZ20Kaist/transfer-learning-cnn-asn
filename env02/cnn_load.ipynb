{
 "cells": [
  {
   "cell_type": "code",
   "execution_count": 27,
   "metadata": {
    "id": "b2il1Qt7ljum"
   },
   "outputs": [],
   "source": [
    "import numpy as np\n",
    "# import keras\n",
    "import matplotlib.pyplot as plt\n",
    "from sklearn.model_selection import train_test_split\n",
    "from sklearn.metrics import confusion_matrix\n",
    "from tensorflow.keras.models import Sequential\n",
    "from tensorflow.keras.layers import Dense, Dropout, Flatten, Conv2D, MaxPool2D,GlobalMaxPooling2D, ConvLSTM2D, Reshape, TimeDistributed, Activation, LSTM\n",
    "from tensorflow.keras.optimizers import RMSprop\n",
    "from sklearn.preprocessing import LabelBinarizer, OneHotEncoder\n",
    "from scipy.io import loadmat\n",
    "from tensorflow.keras.callbacks import ReduceLROnPlateau\n",
    "\n",
    "\n",
    "from sklearn.metrics import classification_report,confusion_matrix\n",
    "import matplotlib.pyplot as plt"
   ]
  },
  {
   "cell_type": "code",
   "execution_count": 28,
   "metadata": {
    "id": "2uyUhKUXljxR"
   },
   "outputs": [],
   "source": [
    "def plotsave(history):\n",
    "    # summarize history for loss\n",
    "    plt.plot(history.history['loss'])\n",
    "    plt.plot(history.history['val_loss'])\n",
    "    plt.title('model loss')\n",
    "    plt.ylabel('loss')\n",
    "    plt.xlabel('epoch')\n",
    "    plt.legend(['train', 'validaton'], loc='upper left')"
   ]
  },
  {
   "cell_type": "code",
   "execution_count": 29,
   "metadata": {
    "colab": {
     "base_uri": "https://localhost:8080/"
    },
    "id": "MGKfoS58lj0U",
    "outputId": "284a595d-dc8e-40b4-d334-e59818bfe26b"
   },
   "outputs": [
    {
     "name": "stdout",
     "output_type": "stream",
     "text": [
      "dict_keys(['__header__', '__version__', '__globals__', 'DL', 'DS'])\n"
     ]
    }
   ],
   "source": [
    "dir_ds = \"./MFPT_DS_ENV2.mat\"\n",
    "data = loadmat(dir_ds) # loading the data into dictionary format\n",
    "locals().update(data)\n",
    "print(data.keys())\n"
   ]
  },
  {
   "cell_type": "code",
   "execution_count": 30,
   "metadata": {
    "colab": {
     "base_uri": "https://localhost:8080/"
    },
    "id": "xD3KD1xJnGJa",
    "outputId": "8e08c9e5-b5fe-4904-8ddf-dd64eacc9a05"
   },
   "outputs": [
    {
     "data": {
      "text/plain": [
       "(858, 32, 32, 1)"
      ]
     },
     "execution_count": 30,
     "metadata": {},
     "output_type": "execute_result"
    }
   ],
   "source": [
    "signalData = data['DS']\n",
    "U_L = data['DL']\n",
    "T_L = data['DL']\n",
    "# Normalize the data\n",
    "# signalData = signalData / 255.0\n",
    "signalData = signalData / np.max(signalData)\n",
    "signalData = np.reshape(signalData, (len(signalData), 32, len(np.transpose(signalData)),1))\n",
    "# p_signalData = np.zeros((signalData.shape[0],p,p,1)) \n",
    "signalData.shape"
   ]
  },
  {
   "cell_type": "code",
   "execution_count": 31,
   "metadata": {
    "id": "BOq9tTBdT69A"
   },
   "outputs": [],
   "source": [
    "label_encoder  = LabelBinarizer()\n",
    "U_L  = label_encoder.fit_transform(U_L)\n",
    "T_L  = label_encoder.fit_transform(T_L)"
   ]
  },
  {
   "cell_type": "code",
   "execution_count": 32,
   "metadata": {
    "colab": {
     "base_uri": "https://localhost:8080/"
    },
    "id": "qT_mS34enGPR",
    "outputId": "58e7f52d-c16e-4358-e2dd-46f3806217b4"
   },
   "outputs": [
    {
     "name": "stdout",
     "output_type": "stream",
     "text": [
      "(686, 32, 32, 1) (686, 1)\n"
     ]
    }
   ],
   "source": [
    "random_seed = 2\n",
    "'DATA SPLITING FOR validation'\n",
    "X_train, X_val, Y_train, Y_val = train_test_split(signalData, T_L, test_size = 0.2, stratify=T_L, random_state=random_seed)\n",
    "print(X_train.shape, Y_train.shape)"
   ]
  },
  {
   "cell_type": "code",
   "execution_count": 33,
   "metadata": {
    "colab": {
     "base_uri": "https://localhost:8080/"
    },
    "id": "YKAPdStxYYUD",
    "outputId": "ec9544ec-7f15-4700-ddaa-83731f603a6f"
   },
   "outputs": [
    {
     "data": {
      "text/plain": [
       "(858, 1)"
      ]
     },
     "execution_count": 33,
     "metadata": {},
     "output_type": "execute_result"
    }
   ],
   "source": [
    "T_L.shape"
   ]
  },
  {
   "cell_type": "code",
   "execution_count": 34,
   "metadata": {
    "colab": {
     "base_uri": "https://localhost:8080/"
    },
    "id": "zCw9pDdLtRdV",
    "outputId": "e01e9797-fc08-4548-c30b-f54a56df3d0f"
   },
   "outputs": [],
   "source": [
    "import tensorflow as tf\n",
    "model = tf.keras.models.load_model(\"./env1sv/\")"
   ]
  },
  {
   "cell_type": "code",
   "execution_count": 35,
   "metadata": {
    "colab": {
     "base_uri": "https://localhost:8080/"
    },
    "id": "l5h03suvs21O",
    "outputId": "406d1b48-5756-483f-92b9-5d0df6d1dbb1"
   },
   "outputs": [
    {
     "name": "stdout",
     "output_type": "stream",
     "text": [
      "Model: \"sequential_3\"\n",
      "_________________________________________________________________\n",
      "Layer (type)                 Output Shape              Param #   \n",
      "=================================================================\n",
      "conv2d_12 (Conv2D)           (None, 32, 32, 32)        832       \n",
      "_________________________________________________________________\n",
      "conv2d_13 (Conv2D)           (None, 32, 32, 32)        9248      \n",
      "_________________________________________________________________\n",
      "max_pooling2d_6 (MaxPooling2 (None, 16, 16, 32)        0         \n",
      "_________________________________________________________________\n",
      "dropout_11 (Dropout)         (None, 16, 16, 32)        0         \n",
      "_________________________________________________________________\n",
      "conv2d_14 (Conv2D)           (None, 16, 16, 64)        18496     \n",
      "_________________________________________________________________\n",
      "max_pooling2d_7 (MaxPooling2 (None, 8, 8, 64)          0         \n",
      "_________________________________________________________________\n",
      "dropout_12 (Dropout)         (None, 8, 8, 64)          0         \n",
      "_________________________________________________________________\n",
      "conv2d_15 (Conv2D)           (None, 8, 8, 64)          36928     \n",
      "_________________________________________________________________\n",
      "dropout_13 (Dropout)         (None, 8, 8, 64)          0         \n",
      "_________________________________________________________________\n",
      "flatten_2 (Flatten)          (None, 4096)              0         \n",
      "_________________________________________________________________\n",
      "dense_5 (Dense)              (None, 128)               524416    \n",
      "_________________________________________________________________\n",
      "dropout_14 (Dropout)         (None, 128)               0         \n",
      "_________________________________________________________________\n",
      "dense_6 (Dense)              (None, 64)                8256      \n",
      "_________________________________________________________________\n",
      "dropout_15 (Dropout)         (None, 64)                0         \n",
      "_________________________________________________________________\n",
      "dense_7 (Dense)              (None, 1)                 65        \n",
      "=================================================================\n",
      "Total params: 598,241\n",
      "Trainable params: 598,241\n",
      "Non-trainable params: 0\n",
      "_________________________________________________________________\n"
     ]
    }
   ],
   "source": [
    "model.summary()"
   ]
  },
  {
   "cell_type": "code",
   "execution_count": 36,
   "metadata": {
    "id": "ijJrqt9LnGZH"
   },
   "outputs": [],
   "source": [
    "epochs = 20 #<<100\n",
    "batch_size = 32 # <<"
   ]
  },
  {
   "cell_type": "code",
   "execution_count": 37,
   "metadata": {
    "colab": {
     "base_uri": "https://localhost:8080/"
    },
    "id": "bmjk0C9qnZZZ",
    "outputId": "b3e533ee-67b0-4fb1-8710-9cc56d189e2b"
   },
   "outputs": [
    {
     "name": "stdout",
     "output_type": "stream",
     "text": [
      "Epoch 1/20\n",
      "22/22 [==============================] - 1s 37ms/step - loss: 0.2441 - accuracy: 0.9402 - val_loss: 0.0718 - val_accuracy: 1.0000\n",
      "Epoch 2/20\n",
      "22/22 [==============================] - 1s 32ms/step - loss: 0.0613 - accuracy: 0.9985 - val_loss: 0.0196 - val_accuracy: 1.0000\n",
      "Epoch 3/20\n",
      "22/22 [==============================] - 1s 31ms/step - loss: 0.0267 - accuracy: 0.9971 - val_loss: 0.0064 - val_accuracy: 1.0000\n",
      "Epoch 4/20\n",
      "22/22 [==============================] - 1s 31ms/step - loss: 0.0122 - accuracy: 0.9985 - val_loss: 0.0022 - val_accuracy: 1.0000\n",
      "Epoch 5/20\n",
      "22/22 [==============================] - 1s 30ms/step - loss: 0.0041 - accuracy: 1.0000 - val_loss: 6.5190e-04 - val_accuracy: 1.0000\n",
      "Epoch 6/20\n",
      "22/22 [==============================] - 1s 30ms/step - loss: 0.0041 - accuracy: 1.0000 - val_loss: 3.2258e-04 - val_accuracy: 1.0000\n",
      "Epoch 7/20\n",
      "22/22 [==============================] - 1s 30ms/step - loss: 0.0011 - accuracy: 1.0000 - val_loss: 1.3474e-04 - val_accuracy: 1.0000\n",
      "Epoch 8/20\n",
      "22/22 [==============================] - 1s 30ms/step - loss: 8.6583e-04 - accuracy: 1.0000 - val_loss: 4.1035e-05 - val_accuracy: 1.0000\n",
      "Epoch 9/20\n",
      "22/22 [==============================] - 1s 34ms/step - loss: 0.0019 - accuracy: 0.9985 - val_loss: 1.4610e-04 - val_accuracy: 1.0000\n",
      "Epoch 10/20\n",
      "22/22 [==============================] - 1s 34ms/step - loss: 4.7079e-04 - accuracy: 1.0000 - val_loss: 1.6855e-05 - val_accuracy: 1.0000\n",
      "Epoch 11/20\n",
      "22/22 [==============================] - 1s 33ms/step - loss: 3.8876e-04 - accuracy: 1.0000 - val_loss: 9.1229e-06 - val_accuracy: 1.0000\n",
      "Epoch 12/20\n",
      "22/22 [==============================] - 1s 31ms/step - loss: 2.2589e-04 - accuracy: 1.0000 - val_loss: 1.0857e-05 - val_accuracy: 1.0000\n",
      "Epoch 13/20\n",
      "22/22 [==============================] - 1s 32ms/step - loss: 1.7606e-04 - accuracy: 1.0000 - val_loss: 2.3254e-06 - val_accuracy: 1.0000\n",
      "Epoch 14/20\n",
      "22/22 [==============================] - 1s 31ms/step - loss: 7.4552e-05 - accuracy: 1.0000 - val_loss: 1.8244e-06 - val_accuracy: 1.0000\n",
      "Epoch 15/20\n",
      "22/22 [==============================] - 1s 31ms/step - loss: 1.6256e-04 - accuracy: 1.0000 - val_loss: 7.7618e-07 - val_accuracy: 1.0000\n",
      "Epoch 16/20\n",
      "22/22 [==============================] - 1s 33ms/step - loss: 1.6781e-05 - accuracy: 1.0000 - val_loss: 5.9646e-07 - val_accuracy: 1.0000\n",
      "Epoch 17/20\n",
      "22/22 [==============================] - 1s 33ms/step - loss: 1.6825e-04 - accuracy: 1.0000 - val_loss: 2.2337e-07 - val_accuracy: 1.0000\n",
      "Epoch 18/20\n",
      "22/22 [==============================] - 1s 34ms/step - loss: 3.5072e-05 - accuracy: 1.0000 - val_loss: 2.3641e-07 - val_accuracy: 1.0000\n",
      "Epoch 19/20\n",
      "22/22 [==============================] - 1s 32ms/step - loss: 1.5083e-05 - accuracy: 1.0000 - val_loss: 2.6111e-07 - val_accuracy: 1.0000\n",
      "Epoch 20/20\n",
      "22/22 [==============================] - 1s 31ms/step - loss: 5.8297e-06 - accuracy: 1.0000 - val_loss: 5.0541e-08 - val_accuracy: 1.0000\n"
     ]
    }
   ],
   "source": [
    "history = model.fit(X_train, Y_train, batch_size = batch_size, epochs = epochs, validation_data = (X_val, Y_val), verbose = 1)"
   ]
  },
  {
   "cell_type": "code",
   "execution_count": 38,
   "metadata": {
    "colab": {
     "base_uri": "https://localhost:8080/",
     "height": 315
    },
    "id": "0UZvCtHQnZhR",
    "outputId": "dc406cbc-afd2-49d0-da28-8c2bf8b6e893"
   },
   "outputs": [
    {
     "data": {
      "image/png": "[encoded data removed]",
      "text/plain": [
       "<Figure size 432x288 with 1 Axes>"
      ]
     },
     "metadata": {
      "needs_background": "light"
     },
     "output_type": "display_data"
    }
   ],
   "source": [
    "plotsave(history)"
   ]
  }
 ],
 "metadata": {
  "accelerator": "GPU",
  "colab": {
   "collapsed_sections": [],
   "name": "cnn-save.ipynb",
   "provenance": []
  },
  "kernelspec": {
   "display_name": "Python 3",
   "language": "python",
   "name": "python3"
  },
  "language_info": {
   "codemirror_mode": {
    "name": "ipython",
    "version": 3
   },
   "file_extension": ".py",
   "mimetype": "text/x-python",
   "name": "python",
   "nbconvert_exporter": "python",
   "pygments_lexer": "ipython3",
   "version": "3.8.10"
  }
 },
 "nbformat": 4,
 "nbformat_minor": 4
}
